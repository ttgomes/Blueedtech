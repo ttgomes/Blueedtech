{
  "nbformat": 4,
  "nbformat_minor": 0,
  "metadata": {
    "colab": {
      "name": "AULA03_Introducao_Python_1.ipynb",
      "provenance": [],
      "collapsed_sections": [
        "u5xxsKKR6S76"
      ]
    },
    "kernelspec": {
      "name": "python3",
      "display_name": "Python 3"
    },
    "language_info": {
      "name": "python"
    }
  },
  "cells": [
    {
      "cell_type": "markdown",
      "metadata": {
        "id": "fh2cpWFgKlwv"
      },
      "source": [
        "# **AULA 03**\n",
        "\n",
        "* Introdução ao Python\n",
        "\n",
        "* Variáveis\n",
        "\n",
        "* Manipulação de Strings\n",
        "\n",
        "* Comando Input\n"
      ]
    },
    {
      "cell_type": "markdown",
      "metadata": {
        "id": "PfwIhhSvIf4S"
      },
      "source": [
        "# **Comando Print()**"
      ]
    },
    {
      "cell_type": "code",
      "metadata": {
        "id": "RsYbievAu_9i",
        "colab": {
          "base_uri": "https://localhost:8080/"
        },
        "outputId": "e0bd83ae-710a-44b2-a6c1-e47827d772a3"
      },
      "source": [
        "print('Olá mundo!!!')"
      ],
      "execution_count": null,
      "outputs": [
        {
          "output_type": "stream",
          "text": [
            "Olá mundo!!!\n"
          ],
          "name": "stdout"
        }
      ]
    },
    {
      "cell_type": "code",
      "metadata": {
        "colab": {
          "base_uri": "https://localhost:8080/"
        },
        "id": "nkEC1i5WqnTo",
        "outputId": "bb78eec6-2dad-4115-a8c9-1decbefdad84"
      },
      "source": [
        "print(\"São Paulo é o melhor time\")"
      ],
      "execution_count": 1,
      "outputs": [
        {
          "output_type": "stream",
          "text": [
            "São Paulo é o melhor time\n"
          ],
          "name": "stdout"
        }
      ]
    },
    {
      "cell_type": "code",
      "metadata": {
        "colab": {
          "base_uri": "https://localhost:8080/"
        },
        "id": "EWOvSSuWvU0_",
        "outputId": "3037158d-d85a-4cb8-eadb-9a276c99b2db"
      },
      "source": [
        "print(7+4)\n",
        "print (55*43)\n",
        "print(\"55*43\")\n",
        "print (\"55\"\"43\")"
      ],
      "execution_count": 6,
      "outputs": [
        {
          "output_type": "stream",
          "text": [
            "11\n",
            "2365\n",
            "55*43\n",
            "5543\n"
          ],
          "name": "stdout"
        }
      ]
    },
    {
      "cell_type": "markdown",
      "metadata": {
        "id": "s3_POfLKI3Fe"
      },
      "source": [
        "Se colocarmos \"aspas\" nos números o resultado é outro\n",
        "\n"
      ]
    },
    {
      "cell_type": "code",
      "metadata": {
        "colab": {
          "base_uri": "https://localhost:8080/"
        },
        "id": "HzopBKyHI314",
        "outputId": "453a8b35-ada2-486f-cbeb-b19f91154651"
      },
      "source": [
        "print('7'+'4')"
      ],
      "execution_count": null,
      "outputs": [
        {
          "output_type": "stream",
          "text": [
            "74\n"
          ],
          "name": "stdout"
        }
      ]
    },
    {
      "cell_type": "markdown",
      "metadata": {
        "id": "UBlwfG0MDUE0"
      },
      "source": [
        "# **Operadores em Python**"
      ]
    },
    {
      "cell_type": "markdown",
      "metadata": {
        "id": "AH9aupTPJ2sN"
      },
      "source": [
        "* Operadores Aritméticos\n",
        "\n",
        "\n"
      ]
    },
    {
      "cell_type": "code",
      "metadata": {
        "colab": {
          "base_uri": "https://localhost:8080/"
        },
        "id": "Ju8VKML7G_HO",
        "outputId": "3a70bb10-b306-4598-b9f0-bb34315d77eb"
      },
      "source": [
        "a = 2 + 3\n",
        "b = 2 * 3\n",
        "c = 2 - 3\n",
        "d = 2 / 3\n",
        "e = 8 % 4\n",
        "\n",
        "print(a)\n",
        "print(b)\n",
        "print(c)\n",
        "print(d)\n",
        "print(e)"
      ],
      "execution_count": 18,
      "outputs": [
        {
          "output_type": "stream",
          "text": [
            "5\n",
            "6\n",
            "-1\n",
            "0.6666666666666666\n",
            "0\n"
          ],
          "name": "stdout"
        }
      ]
    },
    {
      "cell_type": "code",
      "metadata": {
        "id": "U2-OamwBIKpS",
        "colab": {
          "base_uri": "https://localhost:8080/"
        },
        "outputId": "42127315-0140-45ed-ad75-2efd68ec4751"
      },
      "source": [
        "soma = 5 + 5\n",
        "subtracao = 10 - 5\n",
        "multiplicacao = 10 * 5\n",
        "divisao = 10 / 2\n",
        "\n",
        "print(soma)\n",
        "print(subtracao)\n",
        "print(multiplicacao)\n",
        "print(divisao)"
      ],
      "execution_count": null,
      "outputs": [
        {
          "output_type": "stream",
          "text": [
            "10\n",
            "5\n",
            "50\n",
            "5.0\n"
          ],
          "name": "stdout"
        }
      ]
    },
    {
      "cell_type": "markdown",
      "metadata": {
        "id": "B6EAI1ByJ8aM"
      },
      "source": [
        "* Operadores Relacionais"
      ]
    },
    {
      "cell_type": "code",
      "metadata": {
        "colab": {
          "base_uri": "https://localhost:8080/"
        },
        "id": "PQLLXrXmFZCT",
        "outputId": "487313ab-df52-4352-8e0c-f04da0b2e804"
      },
      "source": [
        "2>3\n",
        "4!=5\n",
        "4!=4\n",
        "\"gustavo\" == \"GUSTAVO\""
      ],
      "execution_count": 21,
      "outputs": [
        {
          "output_type": "execute_result",
          "data": {
            "text/plain": [
              "False"
            ]
          },
          "metadata": {
            "tags": []
          },
          "execution_count": 21
        }
      ]
    },
    {
      "cell_type": "markdown",
      "metadata": {
        "id": "XOs9OQG8KDNi"
      },
      "source": [
        "* Operadores Lógicos"
      ]
    },
    {
      "cell_type": "code",
      "metadata": {
        "colab": {
          "base_uri": "https://localhost:8080/"
        },
        "id": "ROnieyJeFrQT",
        "outputId": "f476acef-f7a6-4269-e7b3-0833af5c0b2b"
      },
      "source": [
        "nota = 3\n",
        "nota <= 6 and nota >= 4\n",
        "\n"
      ],
      "execution_count": 22,
      "outputs": [
        {
          "output_type": "execute_result",
          "data": {
            "text/plain": [
              "False"
            ]
          },
          "metadata": {
            "tags": []
          },
          "execution_count": 22
        }
      ]
    },
    {
      "cell_type": "code",
      "metadata": {
        "colab": {
          "base_uri": "https://localhost:8080/"
        },
        "id": "L07VwY1vu3q1",
        "outputId": "4930a3fb-3475-4713-8b8c-c6d469c827bd"
      },
      "source": [
        "2<3 and 1<8"
      ],
      "execution_count": 23,
      "outputs": [
        {
          "output_type": "execute_result",
          "data": {
            "text/plain": [
              "True"
            ]
          },
          "metadata": {
            "tags": []
          },
          "execution_count": 23
        }
      ]
    },
    {
      "cell_type": "code",
      "metadata": {
        "colab": {
          "base_uri": "https://localhost:8080/"
        },
        "id": "fMFmfk66u_AO",
        "outputId": "acc5f65e-4edf-4091-a923-1bb0450eaf42"
      },
      "source": [
        "2<4 and 1>3"
      ],
      "execution_count": 24,
      "outputs": [
        {
          "output_type": "execute_result",
          "data": {
            "text/plain": [
              "False"
            ]
          },
          "metadata": {
            "tags": []
          },
          "execution_count": 24
        }
      ]
    },
    {
      "cell_type": "code",
      "metadata": {
        "colab": {
          "base_uri": "https://localhost:8080/"
        },
        "id": "BHrSKEhrvLlu",
        "outputId": "b11f26e7-c712-4187-d8bc-5d6979d51120"
      },
      "source": [
        "2<4 or 1>3"
      ],
      "execution_count": 25,
      "outputs": [
        {
          "output_type": "execute_result",
          "data": {
            "text/plain": [
              "True"
            ]
          },
          "metadata": {
            "tags": []
          },
          "execution_count": 25
        }
      ]
    },
    {
      "cell_type": "code",
      "metadata": {
        "colab": {
          "base_uri": "https://localhost:8080/"
        },
        "id": "1Ar54L6-vk7u",
        "outputId": "304b40fc-e7e2-4167-c2dc-78364b5bdc95"
      },
      "source": [
        "not True"
      ],
      "execution_count": 26,
      "outputs": [
        {
          "output_type": "execute_result",
          "data": {
            "text/plain": [
              "False"
            ]
          },
          "metadata": {
            "tags": []
          },
          "execution_count": 26
        }
      ]
    },
    {
      "cell_type": "code",
      "metadata": {
        "colab": {
          "base_uri": "https://localhost:8080/"
        },
        "id": "dX5dfGXWvyPD",
        "outputId": "80502da6-f31d-43f4-c940-0c89e25c1f07"
      },
      "source": [
        "not False"
      ],
      "execution_count": 27,
      "outputs": [
        {
          "output_type": "execute_result",
          "data": {
            "text/plain": [
              "True"
            ]
          },
          "metadata": {
            "tags": []
          },
          "execution_count": 27
        }
      ]
    },
    {
      "cell_type": "code",
      "metadata": {
        "colab": {
          "base_uri": "https://localhost:8080/"
        },
        "id": "KLU9rvfXv5_D",
        "outputId": "020d3496-6e0b-405e-e8a7-29669ee98407"
      },
      "source": [
        "not not True"
      ],
      "execution_count": 28,
      "outputs": [
        {
          "output_type": "execute_result",
          "data": {
            "text/plain": [
              "True"
            ]
          },
          "metadata": {
            "tags": []
          },
          "execution_count": 28
        }
      ]
    },
    {
      "cell_type": "markdown",
      "metadata": {
        "id": "7Dk2_jXq7pmV"
      },
      "source": [
        "# **`VARIÁVEIS`**\n",
        "\n",
        "\n",
        "\n"
      ]
    },
    {
      "cell_type": "markdown",
      "metadata": {
        "id": "Lk7MeOMsnsV-"
      },
      "source": [
        "Exemplo 1"
      ]
    },
    {
      "cell_type": "code",
      "metadata": {
        "colab": {
          "base_uri": "https://localhost:8080/"
        },
        "id": "bN8hJ1hwntpM",
        "outputId": "c10fdb23-e6bf-4312-da24-d551ee1a23bc"
      },
      "source": [
        "b = 42\n",
        "print (b)\n",
        "print(type(b))"
      ],
      "execution_count": 33,
      "outputs": [
        {
          "output_type": "stream",
          "text": [
            "42\n",
            "<class 'int'>\n"
          ],
          "name": "stdout"
        }
      ]
    },
    {
      "cell_type": "markdown",
      "metadata": {
        "id": "D0F-aT_fn96-"
      },
      "source": [
        "Exemplo 2:"
      ]
    },
    {
      "cell_type": "code",
      "metadata": {
        "colab": {
          "base_uri": "https://localhost:8080/"
        },
        "id": "xHirzCAhoaYa",
        "outputId": "2a02b57f-9015-4150-df2a-f86a6c4e57b4"
      },
      "source": [
        "b = 1.8\n",
        "print(b)\n",
        "print(type(b))"
      ],
      "execution_count": 34,
      "outputs": [
        {
          "output_type": "stream",
          "text": [
            "1.8\n",
            "<class 'float'>\n"
          ],
          "name": "stdout"
        }
      ]
    },
    {
      "cell_type": "markdown",
      "metadata": {
        "id": "CYSBwP92odE5"
      },
      "source": [
        "Exemplo 3:"
      ]
    },
    {
      "cell_type": "code",
      "metadata": {
        "colab": {
          "base_uri": "https://localhost:8080/"
        },
        "id": "82QMlZeJoe0I",
        "outputId": "9df9dbe7-6e0b-4056-b08a-f1ce86a01547"
      },
      "source": [
        "c = \"Pelos poderes de Grayskul! Eu tenho a força!\"\n",
        "print(c)\n",
        "print (type(c))"
      ],
      "execution_count": 35,
      "outputs": [
        {
          "output_type": "stream",
          "text": [
            "Pelos poderes de Grayskul! Eu tenho a força!\n",
            "<class 'str'>\n"
          ],
          "name": "stdout"
        }
      ]
    },
    {
      "cell_type": "markdown",
      "metadata": {
        "id": "293GNmrjoogI"
      },
      "source": [
        "Tipos de variáveis"
      ]
    },
    {
      "cell_type": "code",
      "metadata": {
        "colab": {
          "base_uri": "https://localhost:8080/"
        },
        "id": "DagjUieX7wXr",
        "outputId": "c6bbff72-f6be-4220-c426-0baa4ad72557"
      },
      "source": [
        "print(type(c))\n",
        "print(type(b))\n",
        "print(type(a))\n"
      ],
      "execution_count": null,
      "outputs": [
        {
          "output_type": "stream",
          "text": [
            "<class 'str'>\n",
            "<class 'float'>\n",
            "<class 'int'>\n"
          ],
          "name": "stdout"
        }
      ]
    },
    {
      "cell_type": "markdown",
      "metadata": {
        "id": "nXjKf5FV0XXH"
      },
      "source": [
        "________________________________________________________________________________"
      ]
    },
    {
      "cell_type": "markdown",
      "metadata": {
        "id": "VTwn121qpiaB"
      },
      "source": [
        "**Sintaxe elegante**"
      ]
    },
    {
      "cell_type": "code",
      "metadata": {
        "colab": {
          "base_uri": "https://localhost:8080/"
        },
        "id": "mFAX4nv5pljv",
        "outputId": "df8ff7bc-12a5-48b6-a5bd-8246e2d05afe"
      },
      "source": [
        "print('Olá Mundo')"
      ],
      "execution_count": null,
      "outputs": [
        {
          "output_type": "stream",
          "text": [
            "Olá Mundo\n"
          ],
          "name": "stdout"
        }
      ]
    },
    {
      "cell_type": "code",
      "metadata": {
        "colab": {
          "base_uri": "https://localhost:8080/"
        },
        "id": "0brqbZv2prE1",
        "outputId": "b120205f-47f1-4518-c480-31ed6c946424"
      },
      "source": [
        "x = 'Blue'\n",
        "print(x)"
      ],
      "execution_count": null,
      "outputs": [
        {
          "output_type": "stream",
          "text": [
            "Blue\n"
          ],
          "name": "stdout"
        }
      ]
    },
    {
      "cell_type": "markdown",
      "metadata": {
        "id": "4_4DnczJpwyU"
      },
      "source": [
        "**Tipagem dinâmica**"
      ]
    },
    {
      "cell_type": "code",
      "metadata": {
        "colab": {
          "base_uri": "https://localhost:8080/"
        },
        "id": "CIjcCQLip1-0",
        "outputId": "3c7aa047-1a9d-4e68-af42-746f0d0b5b1e"
      },
      "source": [
        "b,t = 10,20\n",
        "print('Resultado: ', b+t)"
      ],
      "execution_count": 36,
      "outputs": [
        {
          "output_type": "stream",
          "text": [
            "Resultado:  30\n"
          ],
          "name": "stdout"
        }
      ]
    },
    {
      "cell_type": "code",
      "metadata": {
        "colab": {
          "base_uri": "https://localhost:8080/"
        },
        "id": "-StxZZaa25x3",
        "outputId": "7ec0a5b4-e3f6-436c-ae4a-73982f5475c5"
      },
      "source": [
        "a,b,c,d = 1,2,3,4\n",
        "print (\"Soma:\", a+b, \"Multiplicação:\",c*d)\n",
        "print (\"Soma\", a+b+c+d)"
      ],
      "execution_count": 38,
      "outputs": [
        {
          "output_type": "stream",
          "text": [
            "Soma: 3 Multiplicação: 12\n",
            "Soma 10\n"
          ],
          "name": "stdout"
        }
      ]
    },
    {
      "cell_type": "markdown",
      "metadata": {
        "id": "MG0OEAlEqBbi"
      },
      "source": [
        "**Tipagem forte**"
      ]
    },
    {
      "cell_type": "code",
      "metadata": {
        "colab": {
          "base_uri": "https://localhost:8080/",
          "height": 231
        },
        "id": "NWAtC6OyqEJQ",
        "outputId": "b3d00a30-9f1a-4263-aee4-3e24620be27e"
      },
      "source": [
        "i,j = 10, 'Gustavo'\n",
        "print(i)\n",
        "print(j)\n",
        "print(i+j)\n"
      ],
      "execution_count": null,
      "outputs": [
        {
          "output_type": "stream",
          "text": [
            "10\n",
            "Gustavo\n"
          ],
          "name": "stdout"
        },
        {
          "output_type": "error",
          "ename": "TypeError",
          "evalue": "ignored",
          "traceback": [
            "\u001b[0;31m---------------------------------------------------------------------------\u001b[0m",
            "\u001b[0;31mTypeError\u001b[0m                                 Traceback (most recent call last)",
            "\u001b[0;32m<ipython-input-59-02553f290e14>\u001b[0m in \u001b[0;36m<module>\u001b[0;34m()\u001b[0m\n\u001b[1;32m      2\u001b[0m \u001b[0mprint\u001b[0m\u001b[0;34m(\u001b[0m\u001b[0mi\u001b[0m\u001b[0;34m)\u001b[0m\u001b[0;34m\u001b[0m\u001b[0;34m\u001b[0m\u001b[0m\n\u001b[1;32m      3\u001b[0m \u001b[0mprint\u001b[0m\u001b[0;34m(\u001b[0m\u001b[0mj\u001b[0m\u001b[0;34m)\u001b[0m\u001b[0;34m\u001b[0m\u001b[0;34m\u001b[0m\u001b[0m\n\u001b[0;32m----> 4\u001b[0;31m \u001b[0mprint\u001b[0m\u001b[0;34m(\u001b[0m\u001b[0mi\u001b[0m\u001b[0;34m+\u001b[0m\u001b[0mj\u001b[0m\u001b[0;34m)\u001b[0m\u001b[0;34m\u001b[0m\u001b[0;34m\u001b[0m\u001b[0m\n\u001b[0m",
            "\u001b[0;31mTypeError\u001b[0m: unsupported operand type(s) for +: 'int' and 'str'"
          ]
        }
      ]
    },
    {
      "cell_type": "markdown",
      "metadata": {
        "id": "R4lDgs_2qRGi"
      },
      "source": [
        "**Estrutura de dados de alto nível**"
      ]
    },
    {
      "cell_type": "code",
      "metadata": {
        "colab": {
          "base_uri": "https://localhost:8080/"
        },
        "id": "U-mkbzUVqVJE",
        "outputId": "0f894025-01a3-4443-f08f-22b284f09617"
      },
      "source": [
        "l = [3,2,1]\n",
        "m = l\n",
        "l[1] = 8\n",
        "print(m)\n",
        "print()\n",
        "m = 2\n",
        "l=m\n",
        "l=3\n",
        "m = l\n",
        "print(l)\n",
        "print(m)"
      ],
      "execution_count": 44,
      "outputs": [
        {
          "output_type": "stream",
          "text": [
            "[3, 8, 1]\n",
            "\n",
            "3\n",
            "3\n"
          ],
          "name": "stdout"
        }
      ]
    },
    {
      "cell_type": "code",
      "metadata": {
        "colab": {
          "base_uri": "https://localhost:8080/"
        },
        "id": "Db33l46Uqjd4",
        "outputId": "6775be62-47a6-4e46-943c-4eaee10e8f5b"
      },
      "source": [
        "d = ['23', 'Sexta=feira', 'Março','2021']\n",
        "print(d)"
      ],
      "execution_count": null,
      "outputs": [
        {
          "output_type": "stream",
          "text": [
            "['23', 'Sexta=feira', 'Março', '2021']\n"
          ],
          "name": "stdout"
        }
      ]
    },
    {
      "cell_type": "markdown",
      "metadata": {
        "id": "03Oijd418Aaz"
      },
      "source": [
        "# **COMANDO INPUT**"
      ]
    },
    {
      "cell_type": "code",
      "metadata": {
        "colab": {
          "base_uri": "https://localhost:8080/"
        },
        "id": "QzkOLy_f8GRt",
        "outputId": "7c1a3fb7-fc57-4d5f-81e4-fa15f6c7aeb1"
      },
      "source": [
        "nome = input(\"Digite seu nome completo\")\n",
        "print(nome)"
      ],
      "execution_count": 48,
      "outputs": [
        {
          "output_type": "stream",
          "text": [
            "Digite seu nome completoGustavo Molina\n",
            "Gustavo Molina\n"
          ],
          "name": "stdout"
        }
      ]
    },
    {
      "cell_type": "code",
      "metadata": {
        "colab": {
          "base_uri": "https://localhost:8080/"
        },
        "id": "V4gupj7Y9PLE",
        "outputId": "cadcf5d2-0b29-4e68-a272-b716186fd660"
      },
      "source": [
        "num = int(input(\"Digite seu número da sorte: \"))\n",
        "print(num)"
      ],
      "execution_count": 53,
      "outputs": [
        {
          "output_type": "stream",
          "text": [
            "Digite seu número da sorte: 45.987564\n",
            "45.987564\n"
          ],
          "name": "stdout"
        }
      ]
    },
    {
      "cell_type": "code",
      "metadata": {
        "colab": {
          "base_uri": "https://localhost:8080/"
        },
        "id": "_Jx1NRDc9ali",
        "outputId": "512eb2e4-0b2c-4eda-9266-333647155a9e"
      },
      "source": [
        "num = float(input(\"Digite sua altura: \"))\n",
        "print (num)\n"
      ],
      "execution_count": null,
      "outputs": [
        {
          "output_type": "stream",
          "text": [
            "Digite sua altura: 1.56\n"
          ],
          "name": "stdout"
        }
      ]
    },
    {
      "cell_type": "markdown",
      "metadata": {
        "id": "0EwoQN303Xj7"
      },
      "source": [
        "# **STRINGS**"
      ]
    },
    {
      "cell_type": "code",
      "metadata": {
        "colab": {
          "base_uri": "https://localhost:8080/"
        },
        "id": "7cqs6DGN2BL0",
        "outputId": "9461976f-ab1d-4494-cc83-9a68ff535659"
      },
      "source": [
        "print(\"Qual é o seu nome?\")"
      ],
      "execution_count": null,
      "outputs": [
        {
          "output_type": "stream",
          "text": [
            "Qual é o seu nome?\n"
          ],
          "name": "stdout"
        }
      ]
    },
    {
      "cell_type": "markdown",
      "metadata": {
        "id": "Rj_N_O_K3djP"
      },
      "source": [
        "**CONCATENAÇÃO DE STRINGS**"
      ]
    },
    {
      "cell_type": "markdown",
      "metadata": {
        "id": "VzKPwNfn3kJs"
      },
      "source": [
        "**Exemplo 1:**"
      ]
    },
    {
      "cell_type": "code",
      "metadata": {
        "colab": {
          "base_uri": "https://localhost:8080/"
        },
        "id": "bU7756132yRr",
        "outputId": "d478d2de-d6dd-42fa-eea2-ba65e46e9ae2"
      },
      "source": [
        "print(\"Programação\"+\"Python\")"
      ],
      "execution_count": 54,
      "outputs": [
        {
          "output_type": "stream",
          "text": [
            "ProgramaçãoPython\n"
          ],
          "name": "stdout"
        }
      ]
    },
    {
      "cell_type": "markdown",
      "metadata": {
        "id": "I4HmjZNK3lum"
      },
      "source": [
        "**Exemplo 2:**"
      ]
    },
    {
      "cell_type": "code",
      "metadata": {
        "colab": {
          "base_uri": "https://localhost:8080/"
        },
        "id": "gkJeFUJ63A6l",
        "outputId": "07e891b5-4b1e-4450-b149-cfb0e87f41a9"
      },
      "source": [
        "p = \"Programação\"\n",
        "py = \"Python\"\n",
        "prog = p + py\n",
        "print(prog)"
      ],
      "execution_count": null,
      "outputs": [
        {
          "output_type": "stream",
          "text": [
            "ProgramaçãoPython\n"
          ],
          "name": "stdout"
        }
      ]
    },
    {
      "cell_type": "markdown",
      "metadata": {
        "id": "Tb1gqCTs-Zvt"
      },
      "source": [
        "**MANIPULAÇÃO DE STRINGS**"
      ]
    },
    {
      "cell_type": "markdown",
      "metadata": {
        "id": "05Cesvxj-fGp"
      },
      "source": [
        "Utilizando *len()*"
      ]
    },
    {
      "cell_type": "code",
      "metadata": {
        "colab": {
          "base_uri": "https://localhost:8080/"
        },
        "id": "pKoXhhOt5WLY",
        "outputId": "59afd2d0-d34d-4a0d-bfa5-f5446d8e38d5"
      },
      "source": [
        "teste = \"Programação Python\"\n",
        "len(teste)"
      ],
      "execution_count": null,
      "outputs": [
        {
          "output_type": "execute_result",
          "data": {
            "text/plain": [
              "18"
            ]
          },
          "metadata": {
            "tags": []
          },
          "execution_count": 4
        }
      ]
    },
    {
      "cell_type": "markdown",
      "metadata": {
        "id": "9S9nIyvH_S2J"
      },
      "source": [
        "Utilizando *capitalize()*"
      ]
    },
    {
      "cell_type": "code",
      "metadata": {
        "colab": {
          "base_uri": "https://localhost:8080/",
          "height": 35
        },
        "id": "949xGhAu_GAx",
        "outputId": "9eeb6369-49a3-4a10-a58b-4bfb675243f6"
      },
      "source": [
        "a = \"python\"\n",
        "a.capitalize()\n"
      ],
      "execution_count": null,
      "outputs": [
        {
          "output_type": "execute_result",
          "data": {
            "application/vnd.google.colaboratory.intrinsic+json": {
              "type": "string"
            },
            "text/plain": [
              "'Python'"
            ]
          },
          "metadata": {
            "tags": []
          },
          "execution_count": 5
        }
      ]
    },
    {
      "cell_type": "markdown",
      "metadata": {
        "id": "yYeymIKh_3MT"
      },
      "source": [
        "Utilizando *count()*"
      ]
    },
    {
      "cell_type": "code",
      "metadata": {
        "colab": {
          "base_uri": "https://localhost:8080/"
        },
        "id": "FJKsW4cO_77h",
        "outputId": "d34213b2-718b-46aa-b716-c5d15f3ba9e0"
      },
      "source": [
        "b = \"Linguagem Python\"\n",
        "b.count(\"y\")"
      ],
      "execution_count": null,
      "outputs": [
        {
          "output_type": "execute_result",
          "data": {
            "text/plain": [
              "1"
            ]
          },
          "metadata": {
            "tags": []
          },
          "execution_count": 6
        }
      ]
    },
    {
      "cell_type": "markdown",
      "metadata": {
        "id": "dtubZ_KuBQqX"
      },
      "source": [
        "Utilizando *starswith()*"
      ]
    },
    {
      "cell_type": "code",
      "metadata": {
        "colab": {
          "base_uri": "https://localhost:8080/"
        },
        "id": "JHGXavHiBdCz",
        "outputId": "013c8287-5cd6-4cd5-e246-7005c83922a4"
      },
      "source": [
        "d = \"Python\"\n",
        "d.startswith(\"Py\")"
      ],
      "execution_count": null,
      "outputs": [
        {
          "output_type": "execute_result",
          "data": {
            "text/plain": [
              "True"
            ]
          },
          "metadata": {
            "tags": []
          },
          "execution_count": 7
        }
      ]
    },
    {
      "cell_type": "markdown",
      "metadata": {
        "id": "vVMFV5j0B9-5"
      },
      "source": [
        "Utilizando *endswith()*"
      ]
    },
    {
      "cell_type": "code",
      "metadata": {
        "colab": {
          "base_uri": "https://localhost:8080/"
        },
        "id": "KQBrMxwBBs-z",
        "outputId": "831456fc-3812-42a9-bc7b-80dc76035ca5"
      },
      "source": [
        "d = \"Python\"\n",
        "d.endswith(\"Py\")"
      ],
      "execution_count": null,
      "outputs": [
        {
          "output_type": "execute_result",
          "data": {
            "text/plain": [
              "False"
            ]
          },
          "metadata": {
            "tags": []
          },
          "execution_count": 8
        }
      ]
    },
    {
      "cell_type": "markdown",
      "metadata": {
        "id": "JbCc9VWTWQjx"
      },
      "source": [
        "Utilizando *isalpha()*"
      ]
    },
    {
      "cell_type": "code",
      "metadata": {
        "colab": {
          "base_uri": "https://localhost:8080/"
        },
        "id": "CKshmwCIWEAa",
        "outputId": "28a99d39-95d2-4bf0-c821-fd4774be212a"
      },
      "source": [
        "f = \"Python\"\n",
        "f.isalpha()"
      ],
      "execution_count": null,
      "outputs": [
        {
          "output_type": "execute_result",
          "data": {
            "text/plain": [
              "True"
            ]
          },
          "metadata": {
            "tags": []
          },
          "execution_count": 9
        }
      ]
    },
    {
      "cell_type": "markdown",
      "metadata": {
        "id": "A_C8yMA-WZWi"
      },
      "source": [
        "Utilizando *islower()*"
      ]
    },
    {
      "cell_type": "code",
      "metadata": {
        "colab": {
          "base_uri": "https://localhost:8080/"
        },
        "id": "Ut0wFxBrWfWO",
        "outputId": "b48ff2c3-6ba2-45a5-b002-daec0d73de59"
      },
      "source": [
        "g = \"Python\"\n",
        "g.islower()"
      ],
      "execution_count": null,
      "outputs": [
        {
          "output_type": "execute_result",
          "data": {
            "text/plain": [
              "False"
            ]
          },
          "metadata": {
            "tags": []
          },
          "execution_count": 10
        }
      ]
    },
    {
      "cell_type": "markdown",
      "metadata": {
        "id": "W4875nFiWts2"
      },
      "source": [
        "Utilizando issuper()"
      ]
    },
    {
      "cell_type": "code",
      "metadata": {
        "colab": {
          "base_uri": "https://localhost:8080/"
        },
        "id": "0d08gxlTWwCR",
        "outputId": "c8cfbe64-ec28-40a3-cb58-b794291bab6c"
      },
      "source": [
        "h = \"# PYTHON 12\"\n",
        "h.isupper()"
      ],
      "execution_count": null,
      "outputs": [
        {
          "output_type": "execute_result",
          "data": {
            "text/plain": [
              "True"
            ]
          },
          "metadata": {
            "tags": []
          },
          "execution_count": 11
        }
      ]
    },
    {
      "cell_type": "markdown",
      "metadata": {
        "id": "yjgo_zFCpc6o"
      },
      "source": [
        "Utilizando *lower()*"
      ]
    },
    {
      "cell_type": "code",
      "metadata": {
        "colab": {
          "base_uri": "https://localhost:8080/",
          "height": 35
        },
        "id": "s26M_XQBpfKK",
        "outputId": "6e46524c-8474-4a2c-97b1-50c2a44888a1"
      },
      "source": [
        "i = \"#PYTHON 3\"\n",
        "i.lower()"
      ],
      "execution_count": null,
      "outputs": [
        {
          "output_type": "execute_result",
          "data": {
            "application/vnd.google.colaboratory.intrinsic+json": {
              "type": "string"
            },
            "text/plain": [
              "'#python 3'"
            ]
          },
          "metadata": {
            "tags": []
          },
          "execution_count": 12
        }
      ]
    },
    {
      "cell_type": "markdown",
      "metadata": {
        "id": "x-cdcVLlp1Zq"
      },
      "source": [
        "Utilizando *upper()*"
      ]
    },
    {
      "cell_type": "code",
      "metadata": {
        "colab": {
          "base_uri": "https://localhost:8080/",
          "height": 35
        },
        "id": "4wUIQvfap4Ni",
        "outputId": "47f298a4-c886-452b-b7a9-9785f1a41b74"
      },
      "source": [
        "j = \"Python\"\n",
        "j.upper()"
      ],
      "execution_count": null,
      "outputs": [
        {
          "output_type": "execute_result",
          "data": {
            "application/vnd.google.colaboratory.intrinsic+json": {
              "type": "string"
            },
            "text/plain": [
              "'PYTHON'"
            ]
          },
          "metadata": {
            "tags": []
          },
          "execution_count": 13
        }
      ]
    },
    {
      "cell_type": "markdown",
      "metadata": {
        "id": "ZOLHPyqLqKfb"
      },
      "source": [
        "Utlizando *swapcase()*"
      ]
    },
    {
      "cell_type": "code",
      "metadata": {
        "colab": {
          "base_uri": "https://localhost:8080/",
          "height": 35
        },
        "id": "SZQtvoNQqOdi",
        "outputId": "2f87478b-1b4f-4f06-f89a-f2d6ca32f33b"
      },
      "source": [
        "k =\"Python\"\n",
        "k.swapcase()"
      ],
      "execution_count": null,
      "outputs": [
        {
          "output_type": "execute_result",
          "data": {
            "application/vnd.google.colaboratory.intrinsic+json": {
              "type": "string"
            },
            "text/plain": [
              "'pYTHON'"
            ]
          },
          "metadata": {
            "tags": []
          },
          "execution_count": 14
        }
      ]
    },
    {
      "cell_type": "markdown",
      "metadata": {
        "id": "x_LjjTsjqgFc"
      },
      "source": [
        "Utilizando *title()*"
      ]
    },
    {
      "cell_type": "code",
      "metadata": {
        "colab": {
          "base_uri": "https://localhost:8080/",
          "height": 35
        },
        "id": "L5-UczBFqa_-",
        "outputId": "a9ec06e1-d86a-4581-a9b8-27f75983a3d3"
      },
      "source": [
        "l = \"apostila de python\"\n",
        "l.title()"
      ],
      "execution_count": null,
      "outputs": [
        {
          "output_type": "execute_result",
          "data": {
            "application/vnd.google.colaboratory.intrinsic+json": {
              "type": "string"
            },
            "text/plain": [
              "'Apostila De Python'"
            ]
          },
          "metadata": {
            "tags": []
          },
          "execution_count": 15
        }
      ]
    },
    {
      "cell_type": "markdown",
      "metadata": {
        "id": "yr4EFPxtqsNG"
      },
      "source": [
        "Utilizando *split()*"
      ]
    },
    {
      "cell_type": "code",
      "metadata": {
        "colab": {
          "base_uri": "https://localhost:8080/"
        },
        "id": "FKojoQBKqu23",
        "outputId": "21b3ca03-80eb-4c4c-e3bd-eb87b2a0ae39"
      },
      "source": [
        "m = \"cana de açucar\"\n",
        "m.split()"
      ],
      "execution_count": null,
      "outputs": [
        {
          "output_type": "execute_result",
          "data": {
            "text/plain": [
              "['cana', 'de', 'açucar']"
            ]
          },
          "metadata": {
            "tags": []
          },
          "execution_count": 16
        }
      ]
    },
    {
      "cell_type": "markdown",
      "metadata": {
        "id": "xak5FtKhq8Fb"
      },
      "source": [
        "Utilizando *replace(S1, S2)*"
      ]
    },
    {
      "cell_type": "code",
      "metadata": {
        "colab": {
          "base_uri": "https://localhost:8080/",
          "height": 35
        },
        "id": "UYRI73NIq_Ji",
        "outputId": "8434c0f2-9b66-424b-94de-9f99d46b877e"
      },
      "source": [
        "n = \"Apostila teste\"\n",
        "n.replace(\"teste\",\"Python\")"
      ],
      "execution_count": null,
      "outputs": [
        {
          "output_type": "execute_result",
          "data": {
            "application/vnd.google.colaboratory.intrinsic+json": {
              "type": "string"
            },
            "text/plain": [
              "'Apostila Python'"
            ]
          },
          "metadata": {
            "tags": []
          },
          "execution_count": 53
        }
      ]
    },
    {
      "cell_type": "markdown",
      "metadata": {
        "id": "PzefHEGBzNvc"
      },
      "source": [
        "Utilizando *find()*"
      ]
    },
    {
      "cell_type": "code",
      "metadata": {
        "colab": {
          "base_uri": "https://localhost:8080/"
        },
        "id": "2qcfd7jLzQle",
        "outputId": "0a7d8cdd-c969-465e-808c-56f8f3056894"
      },
      "source": [
        "o = \"Python\"\n",
        "o.find(\"h\")"
      ],
      "execution_count": null,
      "outputs": [
        {
          "output_type": "execute_result",
          "data": {
            "text/plain": [
              "3"
            ]
          },
          "metadata": {
            "tags": []
          },
          "execution_count": 18
        }
      ]
    },
    {
      "cell_type": "markdown",
      "metadata": {
        "id": "gNfm1HOr0zKz"
      },
      "source": [
        "Utilizando *ljust()*"
      ]
    },
    {
      "cell_type": "code",
      "metadata": {
        "colab": {
          "base_uri": "https://localhost:8080/",
          "height": 35
        },
        "id": "BKLcU0E-0ovt",
        "outputId": "2116bd7a-8b39-4e63-ca0a-f58c1a70b2af"
      },
      "source": [
        "p = \"Python\"\n",
        "p.ljust(15)"
      ],
      "execution_count": null,
      "outputs": [
        {
          "output_type": "execute_result",
          "data": {
            "application/vnd.google.colaboratory.intrinsic+json": {
              "type": "string"
            },
            "text/plain": [
              "'Python         '"
            ]
          },
          "metadata": {
            "tags": []
          },
          "execution_count": 54
        }
      ]
    },
    {
      "cell_type": "markdown",
      "metadata": {
        "id": "1BKX5q8A1JNp"
      },
      "source": [
        "Utilizando *center()*"
      ]
    },
    {
      "cell_type": "code",
      "metadata": {
        "colab": {
          "base_uri": "https://localhost:8080/",
          "height": 35
        },
        "id": "H-PRROC61C9A",
        "outputId": "1cd2a187-3ee6-4fd3-c0db-42c955929be0"
      },
      "source": [
        "r = \"Python\"\n",
        "r.center(10)"
      ],
      "execution_count": null,
      "outputs": [
        {
          "output_type": "execute_result",
          "data": {
            "application/vnd.google.colaboratory.intrinsic+json": {
              "type": "string"
            },
            "text/plain": [
              "'  Python  '"
            ]
          },
          "metadata": {
            "tags": []
          },
          "execution_count": 20
        }
      ]
    },
    {
      "cell_type": "markdown",
      "metadata": {
        "id": "eGS4DaDQ118v"
      },
      "source": [
        "Utilizando strip()"
      ]
    },
    {
      "cell_type": "code",
      "metadata": {
        "colab": {
          "base_uri": "https://localhost:8080/",
          "height": 35
        },
        "id": "nDeQS74s13n2",
        "outputId": "01cdc4c1-f1ed-46af-8d97-54e652a8606a"
      },
      "source": [
        "u = \"   Python    \"\n",
        "u.strip()"
      ],
      "execution_count": null,
      "outputs": [
        {
          "output_type": "execute_result",
          "data": {
            "application/vnd.google.colaboratory.intrinsic+json": {
              "type": "string"
            },
            "text/plain": [
              "'Python'"
            ]
          },
          "metadata": {
            "tags": []
          },
          "execution_count": 21
        }
      ]
    },
    {
      "cell_type": "markdown",
      "metadata": {
        "id": "8_LI2wJB3MAO"
      },
      "source": [
        "**FATIAMENTO DE STRINGS**"
      ]
    },
    {
      "cell_type": "code",
      "metadata": {
        "colab": {
          "base_uri": "https://localhost:8080/",
          "height": 35
        },
        "id": "l85vSNgL3VPe",
        "outputId": "c5091dab-2eef-447b-ea66-992101fea305"
      },
      "source": [
        "p = \"Python\"\n",
        "p[1:4]"
      ],
      "execution_count": null,
      "outputs": [
        {
          "output_type": "execute_result",
          "data": {
            "application/vnd.google.colaboratory.intrinsic+json": {
              "type": "string"
            },
            "text/plain": [
              "'yth'"
            ]
          },
          "metadata": {
            "tags": []
          },
          "execution_count": 55
        }
      ]
    },
    {
      "cell_type": "code",
      "metadata": {
        "colab": {
          "base_uri": "https://localhost:8080/",
          "height": 35
        },
        "id": "NNxwdlmz3qjt",
        "outputId": "062635ac-e5c2-4e2c-c42c-faf373a0982c"
      },
      "source": [
        "p = \"Python\"\n",
        "p[2]"
      ],
      "execution_count": null,
      "outputs": [
        {
          "output_type": "execute_result",
          "data": {
            "application/vnd.google.colaboratory.intrinsic+json": {
              "type": "string"
            },
            "text/plain": [
              "'t'"
            ]
          },
          "metadata": {
            "tags": []
          },
          "execution_count": 23
        }
      ]
    },
    {
      "cell_type": "code",
      "metadata": {
        "colab": {
          "base_uri": "https://localhost:8080/",
          "height": 35
        },
        "id": "hBwtkUki3tmw",
        "outputId": "d4679bc2-de59-4837-b5a9-1973a0e220e5"
      },
      "source": [
        "p = \"Python\"\n",
        "p[:4]"
      ],
      "execution_count": null,
      "outputs": [
        {
          "output_type": "execute_result",
          "data": {
            "application/vnd.google.colaboratory.intrinsic+json": {
              "type": "string"
            },
            "text/plain": [
              "'Pyth'"
            ]
          },
          "metadata": {
            "tags": []
          },
          "execution_count": 24
        }
      ]
    },
    {
      "cell_type": "markdown",
      "metadata": {
        "id": "XvYj73ck32ui"
      },
      "source": [
        "# **Exercício 1**\n",
        "\n",
        "Considere a string A = \"Os limites só existem se você os deixar existir.(goku)\". \n",
        "\n",
        "Que fatia corresponde a (goku)?"
      ]
    },
    {
      "cell_type": "code",
      "metadata": {
        "colab": {
          "base_uri": "https://localhost:8080/",
          "height": 52
        },
        "id": "w9lyUUj04clK",
        "outputId": "e6ae25fd-4c3b-43cd-9234-cdaf59ad8521"
      },
      "source": [
        "A = \"Os limites só existem se você os deixar existir.(goku)\"\n",
        "print(len(A))\n",
        "A[48:54]"
      ],
      "execution_count": null,
      "outputs": [
        {
          "output_type": "stream",
          "text": [
            "54\n"
          ],
          "name": "stdout"
        },
        {
          "output_type": "execute_result",
          "data": {
            "application/vnd.google.colaboratory.intrinsic+json": {
              "type": "string"
            },
            "text/plain": [
              "'(goku)'"
            ]
          },
          "metadata": {
            "tags": []
          },
          "execution_count": 58
        }
      ]
    },
    {
      "cell_type": "markdown",
      "metadata": {
        "id": "u5xxsKKR6S76"
      },
      "source": [
        "# **Exercício 2**\n",
        "\n",
        "Escreva um programa que solicite uma frase ao usuário e escreva a frase toda em maiúscula e sem espaços em branco."
      ]
    },
    {
      "cell_type": "code",
      "metadata": {
        "colab": {
          "base_uri": "https://localhost:8080/"
        },
        "id": "uvtVOOLy6qV8",
        "outputId": "61a44c5a-3ae4-4cf4-8fd0-95d08a6d06e8"
      },
      "source": [
        "frase = input(\"Digite uma frase: \")\n",
        "frase_sem_espaços = frase.replace(' ','')\n",
        "frase_maiuscula = frase_sem_espaços.upper()\n",
        "print(frase_maiuscula)"
      ],
      "execution_count": null,
      "outputs": [
        {
          "output_type": "stream",
          "text": [
            "Digite uma frase: Duda é linda\n",
            "DUDAÉLINDA\n"
          ],
          "name": "stdout"
        }
      ]
    }
  ]
}